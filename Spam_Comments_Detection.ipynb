{
  "nbformat": 4,
  "nbformat_minor": 0,
  "metadata": {
    "colab": {
      "provenance": []
    },
    "kernelspec": {
      "name": "python3",
      "display_name": "Python 3"
    },
    "language_info": {
      "name": "python"
    }
  },
  "cells": [
    {
      "cell_type": "code",
      "execution_count": 21,
      "metadata": {
        "id": "Y6BLgaeV2_8w"
      },
      "outputs": [],
      "source": [
        "import pandas as pd\n",
        "import numpy as np\n",
        "from sklearn.feature_extraction.text import CountVectorizer\n",
        "from sklearn.model_selection import train_test_split\n",
        "from sklearn.naive_bayes import BernoulliNB"
      ]
    },
    {
      "cell_type": "code",
      "source": [
        "data = pd.read_csv(\"Youtube01-Psy.csv\")\n",
        "print(data.sample(5))"
      ],
      "metadata": {
        "colab": {
          "base_uri": "https://localhost:8080/"
        },
        "id": "e9Mh2U8h3Fe1",
        "outputId": "3f620366-45d0-4543-bb24-33a58143d7da"
      },
      "execution_count": 22,
      "outputs": [
        {
          "output_type": "stream",
          "name": "stdout",
          "text": [
            "                                COMMENT_ID            AUTHOR  \\\n",
            "251    z12cu5vhuw2ccfvdi22ecpvobuiof1yat04         Sean Deko   \n",
            "91   z13tdv5jmlfpzj1rf04cd3ng4ljqjngxflg0k  Михаил Панкратов   \n",
            "62   z13mcpkzpoz1hj3o304cfd3oouf2tj1rnk40k    StuntmanGaming   \n",
            "44     z13stv3brxe1snv2i225fnvganneudej004    MFkin PRXPHETZ   \n",
            "312    z12qzr1q3vqdghaln23asbvwhrmftzrox04    Robin Delwiche   \n",
            "\n",
            "                    DATE                                            CONTENT  \\\n",
            "251  2014-11-08T03:08:58  2,000,000,000 out of 7,000,000,000 people in t...   \n",
            "91   2014-11-03T22:22:14  There is one video on my channel about my brot...   \n",
            "62   2014-01-21T02:29:43  Behold the most viewed youtube video in the hi...   \n",
            "44   2014-01-20T09:08:39  if you like raw talent, raw lyrics, straight r...   \n",
            "312  2014-11-12T01:37:07  I still to this day wonder why this video is s...   \n",
            "\n",
            "     CLASS  \n",
            "251      0  \n",
            "91       1  \n",
            "62       0  \n",
            "44       1  \n",
            "312      0  \n"
          ]
        }
      ]
    },
    {
      "cell_type": "code",
      "source": [
        "data = data[[\"CONTENT\", \"CLASS\"]]\n",
        "print(data.sample(5))"
      ],
      "metadata": {
        "colab": {
          "base_uri": "https://localhost:8080/"
        },
        "id": "LHksAnKu3JiZ",
        "outputId": "c9508151-1679-41dc-cd35-4fe942b848c5"
      },
      "execution_count": 23,
      "outputs": [
        {
          "output_type": "stream",
          "name": "stdout",
          "text": [
            "                                               CONTENT  CLASS\n",
            "31             Came here to check the views, goodbye.﻿      0\n",
            "221  Hello all 29.24% earth population of the world...      0\n",
            "95                          Plizz withing my channel ﻿      1\n",
            "201                      i am 2,126,492,636 viewer :D﻿      0\n",
            "239   Can we reach 3 billion views by December 2014? ﻿      0\n"
          ]
        }
      ]
    },
    {
      "cell_type": "code",
      "source": [
        "data[\"CLASS\"] = data[\"CLASS\"].map({0: \"Not Spam\", 1: \"Spam Comment\"})\n",
        "print(data.sample(5))"
      ],
      "metadata": {
        "colab": {
          "base_uri": "https://localhost:8080/"
        },
        "id": "J5xv8CSX350D",
        "outputId": "7aba55e6-5fbb-45ad-9b88-f9d812488c13"
      },
      "execution_count": 24,
      "outputs": [
        {
          "output_type": "stream",
          "name": "stdout",
          "text": [
            "                                               CONTENT         CLASS\n",
            "97   Please help me go here http://www.gofundme.com...  Spam Comment\n",
            "309  COME AND CHECK OUT MY NEW YOUTUBE CHHANEL, GOI...  Spam Comment\n",
            "224                        prehistoric song..has been﻿      Not Spam\n",
            "142  pls http://www10.vakinha.com.br/VaquinhaE.aspx...  Spam Comment\n",
            "216  Lol...I dunno how this joke gets a lot of like...      Not Spam\n"
          ]
        }
      ]
    },
    {
      "cell_type": "code",
      "source": [
        "x = np.array(data[\"CONTENT\"])\n",
        "y = np.array(data[\"CLASS\"])\n",
        "\n",
        "cv = CountVectorizer()\n",
        "x = cv.fit_transform(x)"
      ],
      "metadata": {
        "id": "4IqkDDdV4LqJ"
      },
      "execution_count": 25,
      "outputs": []
    },
    {
      "cell_type": "code",
      "source": [
        "xtrain, xtest, ytrain, ytest = train_test_split(x, y, test_size=0.2, random_state=42)"
      ],
      "metadata": {
        "id": "aYC_ltIz4jm9"
      },
      "execution_count": 26,
      "outputs": []
    },
    {
      "cell_type": "code",
      "source": [
        "model = BernoulliNB()\n",
        "model.fit(xtrain, ytrain)\n",
        "print(model.score(xtest, ytest))"
      ],
      "metadata": {
        "colab": {
          "base_uri": "https://localhost:8080/"
        },
        "id": "TViGHWm-44Xr",
        "outputId": "b2f33cf0-5565-4d34-9aac-68ad1c3d3b90"
      },
      "execution_count": 27,
      "outputs": [
        {
          "output_type": "stream",
          "name": "stdout",
          "text": [
            "0.9857142857142858\n"
          ]
        }
      ]
    },
    {
      "cell_type": "code",
      "source": [
        "sample = \"Check this out: https://thecleverprogrammer.com / \"\n",
        "data = cv.transform([sample]).toarray()\n",
        "print(model.predict(data))"
      ],
      "metadata": {
        "colab": {
          "base_uri": "https://localhost:8080/"
        },
        "id": "P-YQY74v5CJV",
        "outputId": "ecd829a1-9a34-4bde-9350-8583d1801abe"
      },
      "execution_count": 28,
      "outputs": [
        {
          "output_type": "stream",
          "name": "stdout",
          "text": [
            "['Spam Comment']\n"
          ]
        }
      ]
    },
    {
      "cell_type": "code",
      "source": [
        "sample = \"The project update looks great! Let's finalize the details by next week.\"\n",
        "data = cv.transform([sample]).toarray()\n",
        "print(model.predict(data))"
      ],
      "metadata": {
        "colab": {
          "base_uri": "https://localhost:8080/"
        },
        "id": "qeKFR_ba5OsB",
        "outputId": "93350dc5-2558-4e61-9d9a-35e8690d4519"
      },
      "execution_count": 29,
      "outputs": [
        {
          "output_type": "stream",
          "name": "stdout",
          "text": [
            "['Not Spam']\n"
          ]
        }
      ]
    },
    {
      "cell_type": "code",
      "source": [
        "import pickle"
      ],
      "metadata": {
        "id": "pq_J1zp9JHsW"
      },
      "execution_count": 30,
      "outputs": []
    },
    {
      "cell_type": "code",
      "source": [
        "with open(\"vectorizer.pkl\", \"wb\") as vec_file:\n",
        "    pickle.dump(cv, vec_file)\n",
        "\n",
        "with open(\"model.pkl\", \"wb\") as model_file:\n",
        "    pickle.dump(model, model_file)"
      ],
      "metadata": {
        "id": "tU5HeRaVI5UQ"
      },
      "execution_count": 31,
      "outputs": []
    }
  ]
}